{
 "cells": [
  {
   "cell_type": "code",
   "execution_count": 1,
   "metadata": {},
   "outputs": [],
   "source": [
    "from metattack import utils\n",
    "from metattack import meta_gradient_attack as mtk\n",
    "import numpy as np\n",
    "import tensorflow as tf\n",
    "import seaborn as sns\n",
    "from matplotlib import pyplot as plt\n",
    "import scipy.sparse as sp\n",
    "try:\n",
    "    from tqdm import tqdm\n",
    "except ImportError:\n",
    "    tqdm = lambda x: x\n",
    "\n",
    "gpu_id = None"
   ]
  },
  {
   "cell_type": "code",
   "execution_count": 2,
   "metadata": {},
   "outputs": [],
   "source": [
    "import tensorflow.compat.v2 as tf\n",
    "tf.enable_v2_behavior()"
   ]
  },
  {
   "cell_type": "code",
   "execution_count": 3,
   "metadata": {},
   "outputs": [
    {
     "name": "stdout",
     "output_type": "stream",
     "text": [
      "Selecting 1 largest connected components\n"
     ]
    },
    {
     "name": "stderr",
     "output_type": "stream",
     "text": [
      "c:\\Users\\fiona\\anaconda3\\envs\\metattack\\lib\\site-packages\\scipy\\sparse\\_index.py:125: SparseEfficiencyWarning: Changing the sparsity structure of a csr_matrix is expensive. lil_matrix is more efficient.\n",
      "  self._set_arrayXarray(i, j, x)\n"
     ]
    }
   ],
   "source": [
    "_A_obs, _X_obs, _z_obs = utils.load_npz('data/mixed_graph_old.npz')\n",
    "# _A_obs, _X_obs, _z_obs = utils.load_npz('data/making_a_cake_graph.npz')\n",
    "# _A_obs, _X_obs, _z_obs = utils.load_npz('data/citeseer.npz')\n",
    "if _X_obs is None:\n",
    "    _X_obs = sp.eye(_A_obs.shape[0]).tocsr()\n",
    "    \n",
    "_A_obs = _A_obs + _A_obs.T\n",
    "_A_obs[_A_obs > 1] = 1\n",
    "lcc = utils.largest_connected_components(_A_obs)\n",
    "\n",
    "_A_obs = _A_obs[lcc][:,lcc]\n",
    "_A_obs.setdiag(0)\n",
    "_A_obs = _A_obs.astype(\"float32\")\n",
    "_A_obs.eliminate_zeros()\n",
    "_X_obs = _X_obs.astype(\"float32\")\n",
    "\n",
    "assert np.abs(_A_obs - _A_obs.T).sum() == 0, \"Input graph is not symmetric\"\n",
    "assert _A_obs.max() == 1 and len(np.unique(_A_obs[_A_obs.nonzero()].A1)) == 1, \"Graph must be unweighted\"\n",
    "assert _A_obs.sum(0).A1.min() > 0, \"Graph contains singleton nodes\"\n",
    "\n",
    "_X_obs = _X_obs[lcc]\n",
    "_z_obs = _z_obs[lcc]\n",
    "_N = _A_obs.shape[0]\n",
    "_K = _z_obs.max()+1\n",
    "_Z_obs = np.eye(_K)[_z_obs]\n",
    "_An = utils.preprocess_graph(_A_obs)\n",
    "sizes = [16, _K]\n",
    "degrees = _A_obs.sum(0).A1\n",
    "\n",
    "seed = 15\n",
    "unlabeled_share = 0.8\n",
    "val_share = 0.1\n",
    "train_share = 1 - unlabeled_share - val_share\n",
    "np.random.seed(seed)\n",
    "\n",
    "split_train, split_val, split_unlabeled = utils.train_val_test_split_tabular(np.arange(_N),\n",
    "                                                                       train_size=train_share,\n",
    "                                                                       val_size=val_share,\n",
    "                                                                       test_size=unlabeled_share,\n",
    "                                                                       stratify=_z_obs)\n",
    "split_unlabeled = np.union1d(split_val, split_unlabeled)"
   ]
  },
  {
   "cell_type": "code",
   "execution_count": 4,
   "metadata": {},
   "outputs": [],
   "source": [
    "hidden_sizes = [16]\n",
    "share_perturbations = 0.15\n",
    "perturbations = int(share_perturbations * (_A_obs.sum()//2))\n",
    "train_iters = 100\n",
    "dtype = tf.float32 # change this to tf.float16 if you run out of GPU memory. Might affect the performance and lead to numerical instability"
   ]
  },
  {
   "cell_type": "code",
   "execution_count": 5,
   "metadata": {},
   "outputs": [
    {
     "name": "stdout",
     "output_type": "stream",
     "text": [
      "WARNING:tensorflow:From C:\\Users\\fiona\\AppData\\Roaming\\Python\\Python36\\site-packages\\tensorflow_core\\python\\ops\\resource_variable_ops.py:1630: calling BaseResourceVariable.__init__ (from tensorflow.python.ops.resource_variable_ops) with constraint is deprecated and will be removed in a future version.\n",
      "Instructions for updating:\n",
      "If using Keras pass *_constraint arguments to layers.\n",
      "WARNING:tensorflow:From c:\\Users\\fiona\\Master Thesis\\Attack_Graph\\metattack\\meta_gradient_attack.py:894: softmax_cross_entropy_with_logits (from tensorflow.python.ops.nn_ops) is deprecated and will be removed in a future version.\n",
      "Instructions for updating:\n",
      "\n",
      "Future major versions of TensorFlow will allow gradients to flow\n",
      "into the labels input on backprop by default.\n",
      "\n",
      "See `tf.nn.softmax_cross_entropy_with_logits_v2`.\n",
      "\n"
     ]
    }
   ],
   "source": [
    "surrogate = mtk.GCNSparse(_A_obs, _X_obs, _Z_obs, hidden_sizes, gpu_id=gpu_id)\n",
    "surrogate.build(with_relu=False)\n",
    "surrogate.train(split_train)"
   ]
  },
  {
   "cell_type": "code",
   "execution_count": 6,
   "metadata": {},
   "outputs": [],
   "source": [
    "# Predict the labels of the unlabeled nodes to use them for self-training.\n",
    "labels_self_training = np.eye(_K)[surrogate.logits.eval(session=surrogate.session).argmax(1)]\n",
    "labels_self_training[split_train] = _Z_obs[split_train]"
   ]
  },
  {
   "cell_type": "code",
   "execution_count": 7,
   "metadata": {},
   "outputs": [],
   "source": [
    "# The attack variants from the paper\n",
    "variants = [\"Meta-Train\", \"Meta-Self\",\"A-Meta-Train\", \"A-Meta-Self\", \"A-Meta-Both\"]\n",
    "# Choose the variant you would like to try\n",
    "variant = \"Meta-Self\"\n",
    "assert variant in variants\n",
    "\n",
    "enforce_ll_constrant = False\n",
    "approximate_meta_gradient = False\n",
    "if variant.startswith(\"A-\"): # approximate meta gradient\n",
    "    approximate_meta_gradient = True\n",
    "    if \"Train\" in variant:\n",
    "        lambda_ = 1\n",
    "    elif \"Self\" in variant:\n",
    "        lambda_ = 0\n",
    "    else:\n",
    "        lambda_ = 0.5\n",
    "        \n",
    "if \"Train\" in variant:\n",
    "    idx_attack = split_train\n",
    "elif \"Self\" in variant:\n",
    "    idx_attack = split_unlabeled\n",
    "else:  # Both\n",
    "    idx_attack = np.union1d(split_train, split_unlabeled)"
   ]
  },
  {
   "cell_type": "code",
   "execution_count": 8,
   "metadata": {},
   "outputs": [],
   "source": [
    "if approximate_meta_gradient:\n",
    "    gcn_attack = mtk.GNNMetaApprox(_A_obs, _X_obs, labels_self_training, hidden_sizes, \n",
    "                                   gpu_id=gpu_id, _lambda=lambda_, train_iters=train_iters, dtype=dtype)\n",
    "else:\n",
    "    gcn_attack = mtk.GNNMeta(_A_obs, _X_obs.toarray().astype(\"float32\"), labels_self_training, hidden_sizes, \n",
    "                             gpu_id=gpu_id, attack_features=False, train_iters=train_iters, dtype=dtype)"
   ]
  },
  {
   "cell_type": "code",
   "execution_count": 9,
   "metadata": {},
   "outputs": [
    {
     "name": "stdout",
     "output_type": "stream",
     "text": [
      "WARNING:tensorflow:From C:\\Users\\fiona\\AppData\\Roaming\\Python\\Python36\\site-packages\\tensorflow_core\\python\\ops\\math_grad.py:424: where (from tensorflow.python.ops.array_ops) is deprecated and will be removed in a future version.\n",
      "Instructions for updating:\n",
      "Use tf.where in 2.0, which has the same broadcast rule as np.where\n"
     ]
    }
   ],
   "source": [
    "gcn_attack.build()\n",
    "gcn_attack.make_loss(ll_constraint=enforce_ll_constrant)"
   ]
  },
  {
   "cell_type": "code",
   "execution_count": 10,
   "metadata": {},
   "outputs": [],
   "source": [
    "if approximate_meta_gradient:\n",
    "    gcn_attack.attack(perturbations, split_train, split_unlabeled, idx_attack)\n",
    "else:\n",
    "    gcn_attack.attack(perturbations, split_train, idx_attack)"
   ]
  },
  {
   "cell_type": "code",
   "execution_count": 11,
   "metadata": {},
   "outputs": [
    {
     "name": "stdout",
     "output_type": "stream",
     "text": [
      "WARNING:tensorflow:From C:\\Users\\fiona\\AppData\\Roaming\\Python\\Python36\\site-packages\\tensorflow_core\\python\\compat\\v2_compat.py:68: disable_resource_variables (from tensorflow.python.ops.variable_scope) is deprecated and will be removed in a future version.\n",
      "Instructions for updating:\n",
      "non-resource variables are not supported in the long term\n"
     ]
    }
   ],
   "source": [
    "import tensorflow.compat.v1 as tf\n",
    "tf.disable_v2_behavior()\n",
    "\n",
    "# Now you can use TensorFlow 1.x methods like .eval()\n",
    "adjacency_changes = gcn_attack.adjacency_changes.eval(session=gcn_attack.session).reshape(_A_obs.shape)\n",
    "modified_adjacency = gcn_attack.modified_adjacency.eval(session=gcn_attack.session)"
   ]
  },
  {
   "cell_type": "code",
   "execution_count": 12,
   "metadata": {},
   "outputs": [],
   "source": [
    "re_trainings = 20"
   ]
  },
  {
   "cell_type": "code",
   "execution_count": 13,
   "metadata": {},
   "outputs": [],
   "source": [
    "gcn_before_attack = mtk.GCNSparse(sp.csr_matrix(_A_obs), _X_obs, _Z_obs, hidden_sizes, gpu_id=gpu_id)\n",
    "gcn_before_attack.build(with_relu=True)"
   ]
  },
  {
   "cell_type": "code",
   "execution_count": 14,
   "metadata": {},
   "outputs": [],
   "source": [
    "accuracies_clean = []\n",
    "for _it in tqdm(range(re_trainings)):\n",
    "    gcn_before_attack.train(split_train, initialize=True, display=False)\n",
    "    accuracy_clean = (gcn_before_attack.logits.eval(session=gcn_before_attack.session).argmax(1) == _z_obs)[split_unlabeled].mean()\n",
    "    accuracies_clean.append(accuracy_clean)"
   ]
  },
  {
   "cell_type": "code",
   "execution_count": 15,
   "metadata": {},
   "outputs": [],
   "source": [
    "gcn_after_attack = mtk.GCNSparse(sp.csr_matrix(modified_adjacency), _X_obs, _Z_obs, hidden_sizes, gpu_id=gpu_id)\n",
    "gcn_after_attack.build(with_relu=True)"
   ]
  },
  {
   "cell_type": "code",
   "execution_count": 16,
   "metadata": {},
   "outputs": [],
   "source": [
    "accuracies_atk = []\n",
    "for _it in tqdm(range(re_trainings)):\n",
    "    gcn_after_attack.train(split_train, initialize=True, display=False)\n",
    "    accuracy_atk = (gcn_after_attack.logits.eval(session=gcn_after_attack.session).argmax(1) == _z_obs)[split_unlabeled].mean()\n",
    "    accuracies_atk.append(accuracy_atk)"
   ]
  },
  {
   "cell_type": "code",
   "execution_count": 17,
   "metadata": {},
   "outputs": [
    {
     "name": "stdout",
     "output_type": "stream",
     "text": [
      "accuracies_clean: [0.7652329749103942, 0.7455197132616488, 0.7670250896057348, 0.7383512544802867, 0.7526881720430108, 0.7598566308243727, 0.7741935483870968, 0.7526881720430108, 0.7526881720430108, 0.7562724014336918, 0.7222222222222222, 0.7508960573476703, 0.7526881720430108, 0.7813620071684588, 0.7580645161290323, 0.7670250896057348, 0.7652329749103942, 0.7670250896057348, 0.7849462365591398, 0.7652329749103942]\n",
      "accuracies_atk: [0.7347670250896058, 0.7598566308243727, 0.7670250896057348, 0.7724014336917563, 0.7598566308243727, 0.7706093189964157, 0.7777777777777778, 0.7652329749103942, 0.7652329749103942, 0.7688172043010753, 0.7544802867383512, 0.7759856630824373, 0.7634408602150538, 0.7831541218637993, 0.7491039426523297, 0.7491039426523297, 0.7634408602150538, 0.7741935483870968, 0.7347670250896058, 0.7634408602150538]\n"
     ]
    }
   ],
   "source": [
    "print(f\"accuracies_clean: {accuracies_clean}\")\n",
    "print(f\"accuracies_atk: {accuracies_atk}\")"
   ]
  },
  {
   "cell_type": "code",
   "execution_count": 24,
   "metadata": {},
   "outputs": [
    {
     "data": {
      "image/png": "[encoded data removed]",
      "text/plain": [
       "<Figure size 864x432 with 2 Axes>"
      ]
     },
     "metadata": {
      "needs_background": "light"
     },
     "output_type": "display_data"
    }
   ],
   "source": [
    "import matplotlib.pyplot as plt\n",
    "import seaborn as sns\n",
    "\n",
    "accuracies_clean = [0.7652329749103942, 0.7455197132616488, 0.7670250896057348, 0.7383512544802867, 0.7526881720430108, 0.7598566308243727, 0.7741935483870968, 0.7526881720430108, 0.7526881720430108, 0.7562724014336918, 0.7222222222222222, 0.7508960573476703, 0.7526881720430108, 0.7813620071684588, 0.7580645161290323, 0.7670250896057348, 0.7652329749103942, 0.7670250896057348, 0.7849462365591398, 0.7652329749103942]\n",
    "accuracies_atk = [0.7347670250896058, 0.7598566308243727, 0.7670250896057348, 0.7724014336917563, 0.7598566308243727, 0.7706093189964157, 0.7777777777777778, 0.7652329749103942, 0.7652329749103942, 0.7688172043010753, 0.7544802867383512, 0.7759856630824373, 0.7634408602150538, 0.7831541218637993, 0.7491039426523297, 0.7491039426523297, 0.7634408602150538, 0.7741935483870968, 0.7347670250896058, 0.7634408602150538]\n",
    "\n",
    "# Create two subplots side by side\n",
    "fig, axs = plt.subplots(1, 2, figsize=(12, 6))\n",
    "\n",
    "# Plot boxplot for accuracies_clean\n",
    "sns.boxplot(ax=axs[0], y=accuracies_clean)\n",
    "axs[0].set_title(\"Acc. Clean\")\n",
    "axs[0].set_ylim([0.7, 0.8])  # Set the y-axis range to be from 0 to 0.5\n",
    "\n",
    "# Plot boxplot for accuracies_atk\n",
    "sns.boxplot(ax=axs[1], y=accuracies_atk)\n",
    "axs[1].set_title(\"Acc. Perturbed\")\n",
    "axs[1].set_ylim([0.7, 0.8])  # Set the y-axis range to be from 0 to 0.5\n",
    "\n",
    "# Set labels for y-axis\n",
    "axs[0].set_ylabel(\"Accuracy\")\n",
    "axs[1].set_ylabel(\"Accuracy\")\n",
    "\n",
    "# Set labels for x-axis\n",
    "axs[0].set_xlabel(\"Acc. Clean\")\n",
    "axs[1].set_xlabel(\"Acc. Perturbed\")\n",
    "\n",
    "# Set overall title\n",
    "plt.suptitle(f\"Accuracy before and after perturbing {int(share_perturbations*100)}% edges using {variant}\")\n",
    "\n",
    "# Save the figure\n",
    "plt.savefig(\"example.png\", dpi=600)\n",
    "plt.savefig(\"example.svg\")\n",
    "\n",
    "# Display the plot\n",
    "plt.show()\n"
   ]
  }
 ],
 "metadata": {
  "kernelspec": {
   "display_name": "metattack",
   "language": "python",
   "name": "python3"
  },
  "language_info": {
   "codemirror_mode": {
    "name": "ipython",
    "version": 3
   },
   "file_extension": ".py",
   "mimetype": "text/x-python",
   "name": "python",
   "nbconvert_exporter": "python",
   "pygments_lexer": "ipython3",
   "version": "3.6.13"
  }
 },
 "nbformat": 4,
 "nbformat_minor": 2
}
