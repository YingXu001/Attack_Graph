{
 "cells": [
  {
   "cell_type": "code",
   "execution_count": 6,
   "metadata": {},
   "outputs": [],
   "source": [
    "from matplotlib import pyplot as plt\n",
    "%matplotlib inline\n",
    "from nettack import utils, GCN\n",
    "from nettack import nettack as ntk\n",
    "import numpy as np\n",
    "gpu_id = None # set this to your desired GPU ID if you want to use GPU computations (only for the GCN/surrogate training)"
   ]
  },
  {
   "cell_type": "code",
   "execution_count": 7,
   "metadata": {},
   "outputs": [
    {
     "name": "stdout",
     "output_type": "stream",
     "text": [
      "Selecting 1 largest connected components\n"
     ]
    }
   ],
   "source": [
    "_A_obs, _X_obs, _z_obs = utils.load_npz('data/mixed_graph.npz')\n",
    "_A_obs = _A_obs + _A_obs.T\n",
    "_A_obs[_A_obs > 1] = 1\n",
    "lcc = utils.largest_connected_components(_A_obs)\n",
    "\n",
    "_A_obs = _A_obs[lcc][:,lcc]\n",
    "\n",
    "assert np.abs(_A_obs - _A_obs.T).sum() == 0, \"Input graph is not symmetric\"\n",
    "assert _A_obs.max() == 1 and len(np.unique(_A_obs[_A_obs.nonzero()].A1)) == 1, \"Graph must be unweighted\"\n",
    "assert _A_obs.sum(0).A1.min() > 0, \"Graph contains singleton nodes\"\n",
    "\n",
    "_X_obs = _X_obs[lcc].astype('float32')\n",
    "_z_obs = _z_obs[lcc]\n",
    "_N = _A_obs.shape[0]\n",
    "_K = _z_obs.max()+1\n",
    "_Z_obs = np.eye(_K)[_z_obs]\n",
    "_An = utils.preprocess_graph(_A_obs)\n",
    "sizes = [16, _K]\n",
    "degrees = _A_obs.sum(0).A1\n",
    "\n",
    "seed = 15\n",
    "unlabeled_share = 0.8\n",
    "val_share = 0.1\n",
    "train_share = 1 - unlabeled_share - val_share\n",
    "np.random.seed(seed)\n",
    "\n",
    "split_train, split_val, split_unlabeled = utils.train_val_test_split_tabular(np.arange(_N),\n",
    "                                                                       train_size=train_share,\n",
    "                                                                       val_size=val_share,\n",
    "                                                                       test_size=unlabeled_share,\n",
    "                                                                       stratify=_z_obs)"
   ]
  },
  {
   "cell_type": "code",
   "execution_count": 8,
   "metadata": {},
   "outputs": [],
   "source": [
    "u = 0# node to attack\n",
    "assert u in split_unlabeled"
   ]
  },
  {
   "cell_type": "code",
   "execution_count": 9,
   "metadata": {},
   "outputs": [
    {
     "name": "stderr",
     "output_type": "stream",
     "text": [
      "C:\\Users\\fiona\\AppData\\Roaming\\Python\\Python36\\site-packages\\tensorflow_core\\python\\client\\session.py:1750: UserWarning: An interactive session is already active. This can cause out-of-memory errors in some cases. You must explicitly call `InteractiveSession.close()` to release resources held by the other session(s).\n",
      "  warnings.warn('An interactive session is already active. This can '\n"
     ]
    },
    {
     "name": "stdout",
     "output_type": "stream",
     "text": [
      "converged after 89 iterations\n",
      "WARNING:tensorflow:From c:\\Users\\fiona\\Master Thesis\\Attack_Graph\\nettack\\GCN.py:184: The name tf.assign is deprecated. Please use tf.compat.v1.assign instead.\n",
      "\n"
     ]
    }
   ],
   "source": [
    "surrogate_model = GCN.GCN(sizes, _An, _X_obs, with_relu=True, name=\"surrogate\", gpu_id=gpu_id)\n",
    "surrogate_model.train(split_train, split_val, _Z_obs)\n",
    "W1 =surrogate_model.W1.eval(session=surrogate_model.session)\n",
    "W2 =surrogate_model.W2.eval(session=surrogate_model.session)"
   ]
  },
  {
   "cell_type": "code",
   "execution_count": 10,
   "metadata": {},
   "outputs": [],
   "source": [
    "nettack = ntk.Nettack(_A_obs, _X_obs, _z_obs, W1, W2, u, verbose=True)"
   ]
  },
  {
   "cell_type": "code",
   "execution_count": 11,
   "metadata": {},
   "outputs": [],
   "source": [
    "direct_attack = True\n",
    "n_influencers = 1 if direct_attack else 5\n",
    "n_perturbations = int(degrees[u]) # How many perturbations to perform. Default: Degree of the node\n",
    "perturb_features = True\n",
    "perturb_structure = False"
   ]
  },
  {
   "cell_type": "code",
   "execution_count": 12,
   "metadata": {},
   "outputs": [
    {
     "name": "stdout",
     "output_type": "stream",
     "text": [
      "##### Starting attack #####\n",
      "##### Attack only using feature perturbations #####\n",
      "##### Attacking the node directly #####\n",
      "##### Performing 131 perturbations #####\n",
      "##### ...1/131 perturbations ... #####\n",
      "##### ...2/131 perturbations ... #####\n",
      "##### ...3/131 perturbations ... #####\n",
      "##### ...4/131 perturbations ... #####\n",
      "##### ...5/131 perturbations ... #####\n",
      "##### ...6/131 perturbations ... #####\n",
      "##### ...7/131 perturbations ... #####\n",
      "##### ...8/131 perturbations ... #####\n",
      "##### ...9/131 perturbations ... #####\n",
      "##### ...10/131 perturbations ... #####\n",
      "##### ...11/131 perturbations ... #####\n",
      "##### ...12/131 perturbations ... #####\n",
      "##### ...13/131 perturbations ... #####\n",
      "##### ...14/131 perturbations ... #####\n",
      "##### ...15/131 perturbations ... #####\n",
      "##### ...16/131 perturbations ... #####\n",
      "##### ...17/131 perturbations ... #####\n",
      "##### ...18/131 perturbations ... #####\n",
      "##### ...19/131 perturbations ... #####\n",
      "##### ...20/131 perturbations ... #####\n",
      "##### ...21/131 perturbations ... #####\n",
      "##### ...22/131 perturbations ... #####\n",
      "##### ...23/131 perturbations ... #####\n",
      "##### ...24/131 perturbations ... #####\n",
      "##### ...25/131 perturbations ... #####\n",
      "##### ...26/131 perturbations ... #####\n",
      "##### ...27/131 perturbations ... #####\n",
      "##### ...28/131 perturbations ... #####\n",
      "##### ...29/131 perturbations ... #####\n",
      "##### ...30/131 perturbations ... #####\n",
      "##### ...31/131 perturbations ... #####\n",
      "##### ...32/131 perturbations ... #####\n",
      "##### ...33/131 perturbations ... #####\n",
      "##### ...34/131 perturbations ... #####\n",
      "##### ...35/131 perturbations ... #####\n",
      "##### ...36/131 perturbations ... #####\n",
      "##### ...37/131 perturbations ... #####\n",
      "##### ...38/131 perturbations ... #####\n",
      "##### ...39/131 perturbations ... #####\n",
      "##### ...40/131 perturbations ... #####\n",
      "##### ...41/131 perturbations ... #####\n",
      "##### ...42/131 perturbations ... #####\n",
      "##### ...43/131 perturbations ... #####\n",
      "##### ...44/131 perturbations ... #####\n",
      "##### ...45/131 perturbations ... #####\n",
      "##### ...46/131 perturbations ... #####\n",
      "##### ...47/131 perturbations ... #####\n",
      "##### ...48/131 perturbations ... #####\n",
      "##### ...49/131 perturbations ... #####\n",
      "##### ...50/131 perturbations ... #####\n",
      "##### ...51/131 perturbations ... #####\n",
      "##### ...52/131 perturbations ... #####\n",
      "##### ...53/131 perturbations ... #####\n",
      "##### ...54/131 perturbations ... #####\n",
      "##### ...55/131 perturbations ... #####\n",
      "##### ...56/131 perturbations ... #####\n",
      "##### ...57/131 perturbations ... #####\n",
      "##### ...58/131 perturbations ... #####\n",
      "##### ...59/131 perturbations ... #####\n",
      "##### ...60/131 perturbations ... #####\n",
      "##### ...61/131 perturbations ... #####\n",
      "##### ...62/131 perturbations ... #####\n",
      "##### ...63/131 perturbations ... #####\n",
      "##### ...64/131 perturbations ... #####\n",
      "##### ...65/131 perturbations ... #####\n",
      "##### ...66/131 perturbations ... #####\n",
      "##### ...67/131 perturbations ... #####\n",
      "##### ...68/131 perturbations ... #####\n",
      "##### ...69/131 perturbations ... #####\n",
      "##### ...70/131 perturbations ... #####\n",
      "##### ...71/131 perturbations ... #####\n",
      "##### ...72/131 perturbations ... #####\n",
      "##### ...73/131 perturbations ... #####\n",
      "##### ...74/131 perturbations ... #####\n",
      "##### ...75/131 perturbations ... #####\n",
      "##### ...76/131 perturbations ... #####\n",
      "##### ...77/131 perturbations ... #####\n",
      "##### ...78/131 perturbations ... #####\n",
      "##### ...79/131 perturbations ... #####\n",
      "##### ...80/131 perturbations ... #####\n",
      "##### ...81/131 perturbations ... #####\n",
      "##### ...82/131 perturbations ... #####\n",
      "##### ...83/131 perturbations ... #####\n",
      "##### ...84/131 perturbations ... #####\n",
      "##### ...85/131 perturbations ... #####\n",
      "##### ...86/131 perturbations ... #####\n",
      "##### ...87/131 perturbations ... #####\n",
      "##### ...88/131 perturbations ... #####\n",
      "##### ...89/131 perturbations ... #####\n",
      "##### ...90/131 perturbations ... #####\n",
      "##### ...91/131 perturbations ... #####\n",
      "##### ...92/131 perturbations ... #####\n",
      "##### ...93/131 perturbations ... #####\n",
      "##### ...94/131 perturbations ... #####\n",
      "##### ...95/131 perturbations ... #####\n",
      "##### ...96/131 perturbations ... #####\n",
      "##### ...97/131 perturbations ... #####\n",
      "##### ...98/131 perturbations ... #####\n",
      "##### ...99/131 perturbations ... #####\n",
      "##### ...100/131 perturbations ... #####\n",
      "##### ...101/131 perturbations ... #####\n",
      "##### ...102/131 perturbations ... #####\n",
      "##### ...103/131 perturbations ... #####\n",
      "##### ...104/131 perturbations ... #####\n",
      "##### ...105/131 perturbations ... #####\n",
      "##### ...106/131 perturbations ... #####\n",
      "##### ...107/131 perturbations ... #####\n",
      "##### ...108/131 perturbations ... #####\n",
      "##### ...109/131 perturbations ... #####\n",
      "##### ...110/131 perturbations ... #####\n",
      "##### ...111/131 perturbations ... #####\n",
      "##### ...112/131 perturbations ... #####\n",
      "##### ...113/131 perturbations ... #####\n",
      "##### ...114/131 perturbations ... #####\n",
      "##### ...115/131 perturbations ... #####\n",
      "##### ...116/131 perturbations ... #####\n",
      "##### ...117/131 perturbations ... #####\n",
      "##### ...118/131 perturbations ... #####\n",
      "##### ...119/131 perturbations ... #####\n",
      "##### ...120/131 perturbations ... #####\n",
      "##### ...121/131 perturbations ... #####\n",
      "##### ...122/131 perturbations ... #####\n",
      "##### ...123/131 perturbations ... #####\n",
      "##### ...124/131 perturbations ... #####\n",
      "##### ...125/131 perturbations ... #####\n",
      "##### ...126/131 perturbations ... #####\n",
      "##### ...127/131 perturbations ... #####\n",
      "##### ...128/131 perturbations ... #####\n",
      "##### ...129/131 perturbations ... #####\n",
      "##### ...130/131 perturbations ... #####\n",
      "##### ...131/131 perturbations ... #####\n"
     ]
    }
   ],
   "source": [
    "nettack.reset()\n",
    "# nettack.attack_surrogate(n_perturbations, perturb_structure=perturb_structure, perturb_features=perturb_features, direct=direct_attack, n_influencers=n_influencers, learning_rate=learning_rate)\n",
    "nettack.attack_surrogate(n_perturbations, perturb_structure=perturb_structure, perturb_features=perturb_features, direct=direct_attack, n_influencers=n_influencers)"
   ]
  },
  {
   "cell_type": "code",
   "execution_count": 13,
   "metadata": {},
   "outputs": [
    {
     "name": "stdout",
     "output_type": "stream",
     "text": [
      "[(), (), (), (), (), (), (), (), (), (), (), (), (), (), (), (), (), (), (), (), (), (), (), (), (), (), (), (), (), (), (), (), (), (), (), (), (), (), (), (), (), (), (), (), (), (), (), (), (), (), (), (), (), (), (), (), (), (), (), (), (), (), (), (), (), (), (), (), (), (), (), (), (), (), (), (), (), (), (), (), (), (), (), (), (), (), (), (), (), (), (), (), (), (), (), (), (), (), (), (), (), (), (), (), (), (), (), (), (), (), (), (), (), (), (), (), (), (), (), (), (), (), (), (), (), (), (), (), (), (), ()]\n"
     ]
    }
   ],
   "source": [
    "print(nettack.structure_perturbations)"
   ]
  },
  {
   "cell_type": "code",
   "execution_count": 14,
   "metadata": {},
   "outputs": [
    {
     "name": "stdout",
     "output_type": "stream",
     "text": [
      "[(0, 78), (0, 78), (0, 78), (0, 78), (0, 78), (0, 78), (0, 78), (0, 78), (0, 78), (0, 78), (0, 78), (0, 78), (0, 78), (0, 78), (0, 78), (0, 78), (0, 78), (0, 78), (0, 78), (0, 78), (0, 78), (0, 78), (0, 78), (0, 78), (0, 78), (0, 78), (0, 78), (0, 78), (0, 78), (0, 78), (0, 78), (0, 78), (0, 78), (0, 78), (0, 78), (0, 78), (0, 78), (0, 78), (0, 78), (0, 78), (0, 78), (0, 78), (0, 78), (0, 78), (0, 78), (0, 78), (0, 78), (0, 78), (0, 78), (0, 78), (0, 78), (0, 78), (0, 78), (0, 78), (0, 78), (0, 78), (0, 78), (0, 78), (0, 78), (0, 78), (0, 78), (0, 78), (0, 78), (0, 78), (0, 78), (0, 78), (0, 78), (0, 78), (0, 78), (0, 78), (0, 78), (0, 78), (0, 78), (0, 78), (0, 78), (0, 78), (0, 78), (0, 78), (0, 78), (0, 78), (0, 78), (0, 78), (0, 78), (0, 78), (0, 78), (0, 78), (0, 78), (0, 78), (0, 78), (0, 78), (0, 78), (0, 78), (0, 78), (0, 78), (0, 78), (0, 78), (0, 78), (0, 78), (0, 78), (0, 78), (0, 78), (0, 78), (0, 78), (0, 78), (0, 78), (0, 78), (0, 78), (0, 78), (0, 78), (0, 78), (0, 78), (0, 78), (0, 78), (0, 78), (0, 78), (0, 78), (0, 78), (0, 78), (0, 78), (0, 78), (0, 78), (0, 78), (0, 78), (0, 78), (0, 78), (0, 78), (0, 78), (0, 78), (0, 78), (0, 78), (0, 78)]\n"
     ]
    }
   ],
   "source": [
    "print(nettack.feature_perturbations)"
   ]
  },
  {
   "cell_type": "code",
   "execution_count": 15,
   "metadata": {},
   "outputs": [],
   "source": [
    "retrain_iters=5"
   ]
  },
  {
   "cell_type": "code",
   "execution_count": 16,
   "metadata": {},
   "outputs": [
    {
     "name": "stderr",
     "output_type": "stream",
     "text": [
      "C:\\Users\\fiona\\AppData\\Roaming\\Python\\Python36\\site-packages\\tensorflow_core\\python\\client\\session.py:1750: UserWarning: An interactive session is already active. This can cause out-of-memory errors in some cases. You must explicitly call `InteractiveSession.close()` to release resources held by the other session(s).\n",
      "  warnings.warn('An interactive session is already active. This can '\n"
     ]
    },
    {
     "name": "stdout",
     "output_type": "stream",
     "text": [
      "... 1/5 \n",
      "converged after 81 iterations\n",
      "... 2/5 \n",
      "converged after 116 iterations\n",
      "... 3/5 \n",
      "converged after 66 iterations\n",
      "... 4/5 \n",
      "converged after 63 iterations\n",
      "... 5/5 \n",
      "converged after 144 iterations\n"
     ]
    }
   ],
   "source": [
    "classification_margins_clean = []\n",
    "class_distrs_clean = []\n",
    "gcn_before = GCN.GCN(sizes, _An, _X_obs, \"gcn_orig\", gpu_id=gpu_id)\n",
    "for _ in range(retrain_iters):\n",
    "    print(\"... {}/{} \".format(_+1, retrain_iters))\n",
    "    gcn_before.train(split_train, split_val, _Z_obs)\n",
    "    probs_before_attack = gcn_before.predictions.eval(session=gcn_before.session,feed_dict={gcn_before.node_ids: [nettack.u]})[0]\n",
    "    class_distrs_clean.append(probs_before_attack)\n",
    "    best_second_class_before = (probs_before_attack - 1000*_Z_obs[nettack.u]).argmax()\n",
    "    margin_before = probs_before_attack[_z_obs[nettack.u]] - probs_before_attack[best_second_class_before]\n",
    "    classification_margins_clean.append(margin_before)\n",
    "class_distrs_clean = np.array(class_distrs_clean)"
   ]
  },
  {
   "cell_type": "code",
   "execution_count": 18,
   "metadata": {},
   "outputs": [
    {
     "name": "stderr",
     "output_type": "stream",
     "text": [
      "C:\\Users\\fiona\\AppData\\Roaming\\Python\\Python36\\site-packages\\tensorflow_core\\python\\client\\session.py:1750: UserWarning: An interactive session is already active. This can cause out-of-memory errors in some cases. You must explicitly call `InteractiveSession.close()` to release resources held by the other session(s).\n",
      "  warnings.warn('An interactive session is already active. This can '\n"
     ]
    },
    {
     "name": "stdout",
     "output_type": "stream",
     "text": [
      "... 1/5 \n",
      "converged after 101 iterations\n",
      "... 2/5 \n",
      "converged after 105 iterations\n",
      "... 3/5 \n",
      "converged after 66 iterations\n",
      "... 4/5 \n",
      "converged after 127 iterations\n",
      "... 5/5 \n",
      "converged after 57 iterations\n"
     ]
    }
   ],
   "source": [
    "classification_margins_corrupted = []\n",
    "class_distrs_retrain = []\n",
    "gcn_retrain = GCN.GCN(sizes, nettack.adj_preprocessed, nettack.X_obs.tocsr(), \"gcn_retrain\", gpu_id=gpu_id)\n",
    "for _ in range(retrain_iters):\n",
    "    print(\"... {}/{} \".format(_+1, retrain_iters))\n",
    "    gcn_retrain.train(split_train, split_val, _Z_obs)\n",
    "    probs_after_attack = gcn_retrain.predictions.eval(session=gcn_retrain.session,feed_dict={gcn_retrain.node_ids: [nettack.u]})[0]\n",
    "    best_second_class_after = (probs_after_attack - 1000*_Z_obs[nettack.u]).argmax()\n",
    "    margin_after = probs_after_attack[_z_obs[nettack.u]] - probs_after_attack[best_second_class_after]\n",
    "    class_distrs_retrain.append(probs_after_attack)\n",
    "    classification_margins_corrupted.append(margin_after)\n",
    "class_distrs_retrain = np.array(class_distrs_retrain)"
   ]
  },
  {
   "cell_type": "code",
   "execution_count": 20,
   "metadata": {},
   "outputs": [
    {
     "data": {
      "image/png": "[encoded data removed]",
      "text/plain": [
       "<Figure size 864x288 with 2 Axes>"
      ]
     },
     "metadata": {
      "needs_background": "light"
     },
     "output_type": "display_data"
    }
   ],
   "source": [
    "def make_xlabel(ix, correct):\n",
    "    if ix==correct:\n",
    "        return \"Class {}\\n(correct)\".format(ix)\n",
    "    return \"Class {}\".format(ix)\n",
    "\n",
    "figure = plt.figure(figsize=(12,4))\n",
    "plt.subplot(1, 2, 1)\n",
    "center_ixs_clean = []\n",
    "for ix, block in enumerate(class_distrs_clean.T):\n",
    "    x_ixs= np.arange(len(block)) + ix*(len(block)+2)\n",
    "    center_ixs_clean.append(np.mean(x_ixs))\n",
    "    color = '#555555'\n",
    "    if ix == nettack.label_u:\n",
    "        color = 'darkgreen'\n",
    "    plt.bar(x_ixs, block, color=color)\n",
    "\n",
    "ax=plt.gca()\n",
    "plt.ylim((-.05, 1.05))\n",
    "plt.ylabel(\"Predicted probability\")\n",
    "ax.set_xticks(center_ixs_clean)\n",
    "ax.set_xticklabels([make_xlabel(k, nettack.label_u) for k in range(_K)])\n",
    "ax.set_title(\"Predicted class probabilities for node {} on clean data\\n({} re-trainings)\".format(nettack.u, retrain_iters))\n",
    "\n",
    "fig = plt.subplot(1, 2, 2)\n",
    "center_ixs_retrain = []\n",
    "for ix, block in enumerate(class_distrs_retrain.T):\n",
    "    x_ixs= np.arange(len(block)) + ix*(len(block)+2)\n",
    "    center_ixs_retrain.append(np.mean(x_ixs))\n",
    "    color = '#555555'\n",
    "    if ix == nettack.label_u:\n",
    "        color = 'darkgreen'\n",
    "    plt.bar(x_ixs, block, color=color)\n",
    "\n",
    "\n",
    "ax=plt.gca()\n",
    "plt.ylim((-.05, 1.05))\n",
    "ax.set_xticks(center_ixs_retrain)\n",
    "ax.set_xticklabels([make_xlabel(k, nettack.label_u) for k in range(_K)])\n",
    "ax.set_title(\"Predicted class probabilities for node {} after {} perturbations\\n({} re-trainings)\".format(nettack.u, n_perturbations, retrain_iters))\n",
    "plt.tight_layout()\n",
    "plt.show()"
   ]
  }
 ],
 "metadata": {
  "kernelspec": {
   "display_name": "metattack",
   "language": "python",
   "name": "python3"
  },
  "language_info": {
   "codemirror_mode": {
    "name": "ipython",
    "version": 3
   },
   "file_extension": ".py",
   "mimetype": "text/x-python",
   "name": "python",
   "nbconvert_exporter": "python",
   "pygments_lexer": "ipython3",
   "version": "3.6.13"
  }
 },
 "nbformat": 4,
 "nbformat_minor": 2
}
